{
 "cells": [
  {
   "cell_type": "markdown",
   "id": "e621881a",
   "metadata": {},
   "source": [
    "# 1. What are escape characters, and how do you use them?"
   ]
  },
  {
   "cell_type": "markdown",
   "id": "e128524e",
   "metadata": {},
   "source": [
    "Escape characters are special characters.These characters are preceded by a backslash ('\\ ') in a string literal,"
   ]
  },
  {
   "cell_type": "markdown",
   "id": "30cf8c2e",
   "metadata": {},
   "source": [
    "# 2. What do the escape characters n and t stand for?"
   ]
  },
  {
   "cell_type": "markdown",
   "id": "fe0aebe7",
   "metadata": {},
   "source": [
    "'\\n' inserts a new line character\n",
    "'\\t' inserts a tab character"
   ]
  },
  {
   "cell_type": "markdown",
   "id": "60aeea54",
   "metadata": {},
   "source": [
    "# 3. What is the way to include backslash characters in a string?"
   ]
  },
  {
   "cell_type": "markdown",
   "id": "2c9657de",
   "metadata": {},
   "source": [
    "## ' \\ \\ '"
   ]
  },
  {
   "cell_type": "markdown",
   "id": "5f199b22",
   "metadata": {},
   "source": [
    "# 4. The string &quot;Howl&#39;s Moving Castle&quot; is a correct value. Why isn&#39;t the single quote character in the word Howl&#39;s not escaped a problem?"
   ]
  },
  {
   "cell_type": "markdown",
   "id": "6e85292a",
   "metadata": {},
   "source": [
    "because the sentence is quoted with Double quotes "
   ]
  },
  {
   "cell_type": "markdown",
   "id": "e806d9a2",
   "metadata": {},
   "source": [
    "# 5. How do you write a string of newlines if you don&#39;t want to use the n character?"
   ]
  },
  {
   "cell_type": "markdown",
   "id": "fb49d181",
   "metadata": {},
   "source": [
    "we can use triple quote to create a multiline string."
   ]
  },
  {
   "cell_type": "markdown",
   "id": "2c7666b4",
   "metadata": {},
   "source": [
    "# 6. What are the values of the given expressions? &#39;Hello, world!&#39;[1] &#39;Hello, world!&#39;[0:5] &#39;Hello, world!&#39;[:5] &#39;Hello, world!&#39;[3:]"
   ]
  },
  {
   "cell_type": "markdown",
   "id": "d05c0f91",
   "metadata": {},
   "source": [
    "'Hello, world!'[1]\n",
    "\n",
    "'e'"
   ]
  },
  {
   "cell_type": "markdown",
   "id": "b9517bdf",
   "metadata": {},
   "source": [
    "'Hello, world!'[0:5]\n",
    "\n",
    "'Hello'"
   ]
  },
  {
   "cell_type": "markdown",
   "id": "ea55b75d",
   "metadata": {},
   "source": [
    "'Hello, world!'[:5]\n",
    "\n",
    "'Hello'"
   ]
  },
  {
   "cell_type": "markdown",
   "id": "434d3e77",
   "metadata": {},
   "source": [
    "'Hello, world!'[3:]\n",
    "\n",
    "'lo, world!'"
   ]
  },
  {
   "cell_type": "markdown",
   "id": "92558827",
   "metadata": {},
   "source": [
    "# 7. What are the values of the following expressions?&#39;Hello&#39;.upper()&#39;Hello&#39;.upper().isupper()&#39;Hello&#39;.upper().lower()"
   ]
  },
  {
   "cell_type": "markdown",
   "id": "93060cc9",
   "metadata": {},
   "source": [
    "'Hello'.upper()\n",
    "\n",
    "'HELLO'"
   ]
  },
  {
   "cell_type": "markdown",
   "id": "646c3a6c",
   "metadata": {},
   "source": [
    "'Hello'.upper().isupper()\n",
    "\n",
    "True"
   ]
  },
  {
   "cell_type": "markdown",
   "id": "b1127674",
   "metadata": {},
   "source": [
    "'Hello'.upper().lower()\n",
    "\n",
    "'hello'"
   ]
  },
  {
   "cell_type": "markdown",
   "id": "7ed9782a",
   "metadata": {},
   "source": [
    "# 8. What are the values of the following expressions?&#39;Remember, remember, the fifth of July.&#39;.split()&#39;-&#39;.join(&#39;There can only one.&#39;.split())"
   ]
  },
  {
   "cell_type": "markdown",
   "id": "93b48293",
   "metadata": {},
   "source": [
    "'Remember, remember, the fifth of July.'.split()\n",
    "\n",
    "['Remember,', 'remember,', 'the', 'fifth', 'of', 'July.']"
   ]
  },
  {
   "cell_type": "markdown",
   "id": "03c69a8f",
   "metadata": {},
   "source": [
    "'-'.join('There can only one.'.split())\n",
    "\n",
    "'There-can-only-one.'"
   ]
  },
  {
   "cell_type": "markdown",
   "id": "ee069c78",
   "metadata": {},
   "source": [
    "# 9. What are the methods for right-justifying, left-justifying, and centering a string?"
   ]
  },
  {
   "cell_type": "markdown",
   "id": "c7a408f9",
   "metadata": {},
   "source": [
    "str.ljust(width[, fillchar])\n",
    "\n",
    "str.rjust(width[, fillchar])\n",
    "\n",
    "str.center(width[, fillchar])"
   ]
  },
  {
   "cell_type": "markdown",
   "id": "9fa7189c",
   "metadata": {},
   "source": [
    "# 10. What is the best way to remove whitespace characters from the start or end?"
   ]
  },
  {
   "cell_type": "code",
   "execution_count": null,
   "id": "d10420ae",
   "metadata": {},
   "outputs": [],
   "source": [
    "str.lstrip() which removes start spaces\n",
    "\n",
    "str.rstr"
   ]
  }
 ],
 "metadata": {
  "kernelspec": {
   "display_name": "Python 3 (ipykernel)",
   "language": "python",
   "name": "python3"
  },
  "language_info": {
   "codemirror_mode": {
    "name": "ipython",
    "version": 3
   },
   "file_extension": ".py",
   "mimetype": "text/x-python",
   "name": "python",
   "nbconvert_exporter": "python",
   "pygments_lexer": "ipython3",
   "version": "3.9.7"
  }
 },
 "nbformat": 4,
 "nbformat_minor": 5
}
