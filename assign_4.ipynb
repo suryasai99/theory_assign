{
 "cells": [
  {
   "cell_type": "markdown",
   "id": "9b7e801e",
   "metadata": {},
   "source": [
    "# 1. What exactly is []?"
   ]
  },
  {
   "cell_type": "markdown",
   "id": "fb3413dc",
   "metadata": {},
   "source": [
    "[] is a empty list"
   ]
  },
  {
   "cell_type": "markdown",
   "id": "1ff7e57b",
   "metadata": {},
   "source": [
    "# 2. In a list of values stored in a variable called spam, how would you assign the value &#39;hello&#39; as the third value? (Assume [2, 4, 6, 8, 10] are in spam.)"
   ]
  },
  {
   "cell_type": "code",
   "execution_count": 1,
   "id": "90ca0ec0",
   "metadata": {},
   "outputs": [],
   "source": [
    "spam =[2,4,6,8,10]"
   ]
  },
  {
   "cell_type": "code",
   "execution_count": 2,
   "id": "1735bf15",
   "metadata": {},
   "outputs": [],
   "source": [
    "spam[3]='hello'"
   ]
  },
  {
   "cell_type": "code",
   "execution_count": 3,
   "id": "fd622e36",
   "metadata": {},
   "outputs": [
    {
     "data": {
      "text/plain": [
       "[2, 4, 6, 'hello', 10]"
      ]
     },
     "execution_count": 3,
     "metadata": {},
     "output_type": "execute_result"
    }
   ],
   "source": [
    "spam"
   ]
  },
  {
   "cell_type": "markdown",
   "id": "a1bae84a",
   "metadata": {},
   "source": [
    "### Let&#39;s pretend the spam includes the list [&#39;a&#39;, &#39;b&#39;, &#39;c&#39;, &#39;d&#39;] for the next three queries."
   ]
  },
  {
   "cell_type": "code",
   "execution_count": 4,
   "id": "7ba01cf1",
   "metadata": {},
   "outputs": [],
   "source": [
    "spam = ['a', 'b', 'c', 'd']"
   ]
  },
  {
   "cell_type": "markdown",
   "id": "a722b06a",
   "metadata": {},
   "source": [
    "# 3. What is the value of spam[int(int(&#39;3&#39; * 2) / 11)]?"
   ]
  },
  {
   "cell_type": "markdown",
   "id": "0fceb5a6",
   "metadata": {},
   "source": [
    "d"
   ]
  },
  {
   "cell_type": "markdown",
   "id": "6b9a9951",
   "metadata": {},
   "source": [
    "# 4. What is the value of spam[-1]?"
   ]
  },
  {
   "cell_type": "markdown",
   "id": "655cd4f1",
   "metadata": {},
   "source": [
    "d"
   ]
  },
  {
   "cell_type": "markdown",
   "id": "b0458300",
   "metadata": {},
   "source": [
    "# 5. What is the value of spam[:2]?"
   ]
  },
  {
   "cell_type": "markdown",
   "id": "a8319417",
   "metadata": {},
   "source": [
    "['a', 'b']"
   ]
  },
  {
   "cell_type": "markdown",
   "id": "7f205d6d",
   "metadata": {},
   "source": [
    "### Let&#39;s pretend bacon has the list [3.14, &#39;cat,&#39; 11, &#39;cat,&#39; True] for the next three questions.\n"
   ]
  },
  {
   "cell_type": "markdown",
   "id": "04716586",
   "metadata": {},
   "source": [
    "# 6. What is the value of bacon.index(&#39;cat&#39;)?"
   ]
  },
  {
   "cell_type": "markdown",
   "id": "612ce123",
   "metadata": {},
   "source": [
    "1"
   ]
  },
  {
   "cell_type": "markdown",
   "id": "d689d4e0",
   "metadata": {},
   "source": [
    "# 7. How does bacon.append(99) change the look of the list value in bacon?"
   ]
  },
  {
   "cell_type": "markdown",
   "id": "9fe9ce47",
   "metadata": {},
   "source": [
    "[3.14, 'cat', 11, 'cat', True,99]"
   ]
  },
  {
   "cell_type": "markdown",
   "id": "f3e590a0",
   "metadata": {},
   "source": [
    "# 8. How does bacon.remove(&#39;cat&#39;) change the look of the list in bacon?"
   ]
  },
  {
   "cell_type": "markdown",
   "id": "3d12ffb8",
   "metadata": {},
   "source": [
    "[3.14, 11, 'cat', True,99]"
   ]
  },
  {
   "cell_type": "markdown",
   "id": "674f88d0",
   "metadata": {},
   "source": [
    "# 9. What are the list concatenation and list replication operators?"
   ]
  },
  {
   "cell_type": "markdown",
   "id": "df790910",
   "metadata": {},
   "source": [
    "The list concatenation operator is + and The list replication operator is *"
   ]
  },
  {
   "cell_type": "markdown",
   "id": "02f74e4e",
   "metadata": {},
   "source": [
    "# 10. What is difference between the list methods append() and insert()?"
   ]
  },
  {
   "cell_type": "markdown",
   "id": "22c37dc7",
   "metadata": {},
   "source": [
    "By using list method append, the value adds at the end of the list whereas by using insert method we can add the value at the desired index. for ex: insert(index,value)"
   ]
  },
  {
   "cell_type": "markdown",
   "id": "3a5ad5b3",
   "metadata": {},
   "source": [
    "# 11. What are the two methods for removing items from a list?"
   ]
  },
  {
   "cell_type": "markdown",
   "id": "067e2118",
   "metadata": {},
   "source": [
    "we can use remove and  pop methods where remove method is accessed by the value and pop method is accessed by index of the value"
   ]
  },
  {
   "cell_type": "markdown",
   "id": "7aea9f15",
   "metadata": {},
   "source": [
    "# 12. Describe how list values and string values are identical."
   ]
  },
  {
   "cell_type": "markdown",
   "id": "81276f48",
   "metadata": {},
   "source": [
    "list and string are identical in indexing,slicing,concatenation etc"
   ]
  },
  {
   "cell_type": "markdown",
   "id": "eba9890e",
   "metadata": {},
   "source": [
    "# 13. What&#39;s the difference between tuples and lists?"
   ]
  },
  {
   "cell_type": "markdown",
   "id": "6f354dfa",
   "metadata": {},
   "source": [
    "simple difference is that lists are mutable whereas tuples are immutable"
   ]
  },
  {
   "cell_type": "markdown",
   "id": "1f45424a",
   "metadata": {},
   "source": [
    "# 14. How do you type a tuple value that only contains the integer 42?"
   ]
  },
  {
   "cell_type": "markdown",
   "id": "8aca7f3a",
   "metadata": {},
   "source": [
    "a =(42,)"
   ]
  },
  {
   "cell_type": "markdown",
   "id": "ced5e01d",
   "metadata": {},
   "source": [
    "# 15. How do you get a list value&#39;s tuple form? How do you get a tuple value&#39;s list form?"
   ]
  },
  {
   "cell_type": "code",
   "execution_count": 5,
   "id": "86c23828",
   "metadata": {},
   "outputs": [],
   "source": [
    "a = [23,34,45]"
   ]
  },
  {
   "cell_type": "code",
   "execution_count": 6,
   "id": "62cda55a",
   "metadata": {},
   "outputs": [
    {
     "data": {
      "text/plain": [
       "(23, 34, 45)"
      ]
     },
     "execution_count": 6,
     "metadata": {},
     "output_type": "execute_result"
    }
   ],
   "source": [
    "b = tuple(a)\n",
    "b"
   ]
  },
  {
   "cell_type": "code",
   "execution_count": 7,
   "id": "1d486034",
   "metadata": {},
   "outputs": [
    {
     "data": {
      "text/plain": [
       "[23, 34, 45]"
      ]
     },
     "execution_count": 7,
     "metadata": {},
     "output_type": "execute_result"
    }
   ],
   "source": [
    "c = list(b)\n",
    "c"
   ]
  },
  {
   "cell_type": "markdown",
   "id": "86b0b9d5",
   "metadata": {},
   "source": [
    "# 16. Variables that &quot;contain&quot; list values are not necessarily lists themselves. Instead, what do they contain?"
   ]
  },
  {
   "cell_type": "markdown",
   "id": "2e3438d6",
   "metadata": {},
   "source": [
    " They contain a reference to the list object in memory.\n",
    "\n"
   ]
  },
  {
   "cell_type": "markdown",
   "id": "5bdd3af8",
   "metadata": {},
   "source": [
    "# 17. How do you distinguish between copy.copy() and copy.deepcopy()?"
   ]
  },
  {
   "cell_type": "markdown",
   "id": "d4fd621a",
   "metadata": {},
   "source": [
    "copy() method creates a shallow copy of the object. A shallow copy means that a new object is created, but any objects inside the original object are not duplicated. Instead, the new object references the same objects as the original object. Therefore, any changes made to the objects inside the new object will also affect the original object.\n",
    "\n",
    "deepcopy() method creates a deep copy of the object. A deep copy means that a new object is created, and any objects inside the original object are also duplicated. Therefore, any changes made to the objects inside the new object will not affect the original object."
   ]
  },
  {
   "cell_type": "code",
   "execution_count": null,
   "id": "f3bb0991",
   "metadata": {},
   "outputs": [],
   "source": []
  }
 ],
 "metadata": {
  "kernelspec": {
   "display_name": "Python 3 (ipykernel)",
   "language": "python",
   "name": "python3"
  },
  "language_info": {
   "codemirror_mode": {
    "name": "ipython",
    "version": 3
   },
   "file_extension": ".py",
   "mimetype": "text/x-python",
   "name": "python",
   "nbconvert_exporter": "python",
   "pygments_lexer": "ipython3",
   "version": "3.9.7"
  }
 },
 "nbformat": 4,
 "nbformat_minor": 5
}
