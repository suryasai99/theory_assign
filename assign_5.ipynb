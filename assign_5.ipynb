{
 "cells": [
  {
   "cell_type": "markdown",
   "id": "e87db455",
   "metadata": {},
   "source": [
    "# 1. What does an empty dictionary&#39;s code look like?"
   ]
  },
  {
   "cell_type": "markdown",
   "id": "456baacd",
   "metadata": {},
   "source": [
    "a = {}"
   ]
  },
  {
   "cell_type": "markdown",
   "id": "b99eac64",
   "metadata": {},
   "source": [
    "# 2. What is the value of a dictionary value with the key &#39;foo&#39; and the value 42?"
   ]
  },
  {
   "cell_type": "markdown",
   "id": "ca71987d",
   "metadata": {},
   "source": [
    "42"
   ]
  },
  {
   "cell_type": "markdown",
   "id": "7e9261dd",
   "metadata": {},
   "source": [
    "# 3. What is the most significant distinction between a dictionary and a list?"
   ]
  },
  {
   "cell_type": "markdown",
   "id": "3dc72b75",
   "metadata": {},
   "source": [
    "A dictionary stores elements as key-value pairs, and elements are accessed by their key instead of their position.\n",
    "whereas, Lists are ordered, mutable sequences of elements and the elements can be accessed by index."
   ]
  },
  {
   "cell_type": "markdown",
   "id": "a198ee10",
   "metadata": {},
   "source": [
    "# 4. What happens if you try to access spam[&#39;foo&#39;] if spam is {&#39;bar&#39;: 100}?"
   ]
  },
  {
   "cell_type": "markdown",
   "id": "73deb7d2",
   "metadata": {},
   "source": [
    "we will get an error"
   ]
  },
  {
   "cell_type": "markdown",
   "id": "74a4ba15",
   "metadata": {},
   "source": [
    "# 5. If a dictionary is stored in spam, what is the difference between the expressions &#39;cat&#39; in spam and &#39;cat&#39; in spam.keys()?"
   ]
  },
  {
   "cell_type": "markdown",
   "id": "31b28c7e",
   "metadata": {},
   "source": [
    "No difference..Both are same"
   ]
  },
  {
   "cell_type": "markdown",
   "id": "ac21a147",
   "metadata": {},
   "source": [
    "# 6. If a dictionary is stored in spam, what is the difference between the expressions &#39;cat&#39; in spam and &#39;cat&#39; in spam.values()?"
   ]
  },
  {
   "cell_type": "code",
   "execution_count": 1,
   "id": "f6ca84b7",
   "metadata": {},
   "outputs": [],
   "source": [
    "spam = {'cat':2}"
   ]
  },
  {
   "cell_type": "code",
   "execution_count": 2,
   "id": "fc01e06f",
   "metadata": {},
   "outputs": [
    {
     "data": {
      "text/plain": [
       "True"
      ]
     },
     "execution_count": 2,
     "metadata": {},
     "output_type": "execute_result"
    }
   ],
   "source": [
    "'cat' in spam"
   ]
  },
  {
   "cell_type": "code",
   "execution_count": 3,
   "id": "26804949",
   "metadata": {},
   "outputs": [
    {
     "data": {
      "text/plain": [
       "False"
      ]
     },
     "execution_count": 3,
     "metadata": {},
     "output_type": "execute_result"
    }
   ],
   "source": [
    "'cat' in spam.values()"
   ]
  },
  {
   "cell_type": "markdown",
   "id": "f97bbf13",
   "metadata": {},
   "source": [
    "spam.values() access the values assigned to the keys"
   ]
  },
  {
   "cell_type": "markdown",
   "id": "0046d19d",
   "metadata": {},
   "source": [
    "# 7. What is a shortcut for the following code? if &#39;color&#39; not in spam: spam[&#39;color&#39;] = &#39;black&#39;"
   ]
  },
  {
   "cell_type": "markdown",
   "id": "017f42f4",
   "metadata": {},
   "source": [
    "if there is no key word with 'color' then it adds the key word 'color' and assigns a value 'black'"
   ]
  },
  {
   "cell_type": "markdown",
   "id": "ba7f1ad6",
   "metadata": {},
   "source": [
    "# 8. How do you &quot;pretty print&quot; dictionary values using which module and function?"
   ]
  },
  {
   "cell_type": "markdown",
   "id": "1efed647",
   "metadata": {},
   "source": [
    "To pretty print dictionary values in Python, you can use the pprint module which provides the pprint() function. The pprint() function pretty prints Python data structures, including dictionaries, by formatting them in a way that is easier to read and understand."
   ]
  }
 ],
 "metadata": {
  "kernelspec": {
   "display_name": "Python 3 (ipykernel)",
   "language": "python",
   "name": "python3"
  },
  "language_info": {
   "codemirror_mode": {
    "name": "ipython",
    "version": 3
   },
   "file_extension": ".py",
   "mimetype": "text/x-python",
   "name": "python",
   "nbconvert_exporter": "python",
   "pygments_lexer": "ipython3",
   "version": "3.9.7"
  }
 },
 "nbformat": 4,
 "nbformat_minor": 5
}
